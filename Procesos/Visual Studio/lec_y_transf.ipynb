{
 "cells": [
  {
   "cell_type": "markdown",
   "metadata": {},
   "source": [
    " ## Carga y Transformación de los archivos\n",
    "\n",
    " Tomaremos los archivos Excel de **homicidios.xlsx** &  **lesiones.xlsx**, haremos las transformaciones y lo dejaremos listo como CSV para su carga en SQL\n",
    " \n",
    "\n",
    " Como libreria principal utilizaremos Pandas, aunque será necesario tener instalado *openpyxl*\n",
    " será necesario utulizar re para cierto paso del dataframe **comunas**"
   ]
  },
  {
   "cell_type": "code",
   "execution_count": 1,
   "metadata": {},
   "outputs": [],
   "source": [
    "import pandas as pd\n",
    "import re"
   ]
  },
  {
   "cell_type": "markdown",
   "metadata": {},
   "source": [
    "para importar el dataframe **comunas** será necesario abrir el excel de *pob_comunas.xlsx*, irnos hasta la hoja \"Cuadro 1.1\"  y copiar todo el contenido del cuadro"
   ]
  },
  {
   "cell_type": "code",
   "execution_count": 2,
   "metadata": {},
   "outputs": [],
   "source": [
    "rut_hom = r'C:\\Users\\OS\\Desktop\\Proyecto Buenos aires\\Data\\raw\\homicidios.xlsx'\n",
    "rut_les = r'C:\\Users\\OS\\Desktop\\Proyecto Buenos aires\\Data\\raw\\lesiones.xlsx'\n",
    "homicidios = pd.read_excel(rut_hom,sheet_name='HECHOS')\n",
    "victimas = pd.read_excel(rut_hom, sheet_name='VICTIMAS')\n",
    "lesiones = pd.read_excel(rut_les,sheet_name='HECHOS')\n",
    "comunas = pd.read_clipboard()"
   ]
  },
  {
   "cell_type": "markdown",
   "metadata": {},
   "source": [
    "# comenzamos por Homicidios\n",
    "\n",
    "Observamos que cuenta con varias columnas que son redundantes, y pocos valores nulos\n",
    "esto de los valores nulos es confuso, hay muchos valores 'SD' (sin datos)"
   ]
  },
  {
   "cell_type": "code",
   "execution_count": 3,
   "metadata": {},
   "outputs": [
    {
     "data": {
      "text/plain": [
       "ID                         0\n",
       "N_VICTIMAS                 0\n",
       "FECHA                      0\n",
       "AAAA                       0\n",
       "MM                         0\n",
       "DD                         0\n",
       "HORA                       0\n",
       "HH                         0\n",
       "LUGAR_DEL_HECHO            0\n",
       "TIPO_DE_CALLE              0\n",
       "Calle                      1\n",
       "Altura                   567\n",
       "Cruce                    171\n",
       "Dirección Normalizada      8\n",
       "COMUNA                     0\n",
       "XY (CABA)                  0\n",
       "pos x                      0\n",
       "pos y                      0\n",
       "PARTICIPANTES              0\n",
       "VICTIMA                    0\n",
       "ACUSADO                    0\n",
       "dtype: int64"
      ]
     },
     "execution_count": 3,
     "metadata": {},
     "output_type": "execute_result"
    }
   ],
   "source": [
    "homicidios.isna().sum()\n"
   ]
  },
  {
   "cell_type": "code",
   "execution_count": 4,
   "metadata": {},
   "outputs": [
    {
     "data": {
      "text/html": [
       "<div>\n",
       "<style scoped>\n",
       "    .dataframe tbody tr th:only-of-type {\n",
       "        vertical-align: middle;\n",
       "    }\n",
       "\n",
       "    .dataframe tbody tr th {\n",
       "        vertical-align: top;\n",
       "    }\n",
       "\n",
       "    .dataframe thead th {\n",
       "        text-align: right;\n",
       "    }\n",
       "</style>\n",
       "<table border=\"1\" class=\"dataframe\">\n",
       "  <thead>\n",
       "    <tr style=\"text-align: right;\">\n",
       "      <th></th>\n",
       "      <th>ID</th>\n",
       "      <th>N_VICTIMAS</th>\n",
       "      <th>FECHA</th>\n",
       "      <th>AAAA</th>\n",
       "      <th>MM</th>\n",
       "      <th>DD</th>\n",
       "      <th>HORA</th>\n",
       "      <th>HH</th>\n",
       "      <th>LUGAR_DEL_HECHO</th>\n",
       "      <th>TIPO_DE_CALLE</th>\n",
       "      <th>...</th>\n",
       "      <th>Altura</th>\n",
       "      <th>Cruce</th>\n",
       "      <th>Dirección Normalizada</th>\n",
       "      <th>COMUNA</th>\n",
       "      <th>XY (CABA)</th>\n",
       "      <th>pos x</th>\n",
       "      <th>pos y</th>\n",
       "      <th>PARTICIPANTES</th>\n",
       "      <th>VICTIMA</th>\n",
       "      <th>ACUSADO</th>\n",
       "    </tr>\n",
       "  </thead>\n",
       "  <tbody>\n",
       "    <tr>\n",
       "      <th>0</th>\n",
       "      <td>2016-0001</td>\n",
       "      <td>1</td>\n",
       "      <td>2016-01-01</td>\n",
       "      <td>2016</td>\n",
       "      <td>1</td>\n",
       "      <td>1</td>\n",
       "      <td>04:00:00</td>\n",
       "      <td>4</td>\n",
       "      <td>AV PIEDRA BUENA Y AV FERNANDEZ DE LA CRUZ</td>\n",
       "      <td>AVENIDA</td>\n",
       "      <td>...</td>\n",
       "      <td>NaN</td>\n",
       "      <td>FERNANDEZ DE LA CRUZ, F., GRAL. AV.</td>\n",
       "      <td>PIEDRA BUENA AV. y FERNANDEZ DE LA CRUZ, F., G...</td>\n",
       "      <td>8</td>\n",
       "      <td>Point (98896.78238426 93532.43437792)</td>\n",
       "      <td>-58.47533969</td>\n",
       "      <td>-34.68757022</td>\n",
       "      <td>MOTO-AUTO</td>\n",
       "      <td>MOTO</td>\n",
       "      <td>AUTO</td>\n",
       "    </tr>\n",
       "    <tr>\n",
       "      <th>1</th>\n",
       "      <td>2016-0002</td>\n",
       "      <td>1</td>\n",
       "      <td>2016-01-02</td>\n",
       "      <td>2016</td>\n",
       "      <td>1</td>\n",
       "      <td>2</td>\n",
       "      <td>01:15:00</td>\n",
       "      <td>1</td>\n",
       "      <td>AV GRAL PAZ  Y AV DE LOS CORRALES</td>\n",
       "      <td>GRAL PAZ</td>\n",
       "      <td>...</td>\n",
       "      <td>NaN</td>\n",
       "      <td>DE LOS CORRALES AV.</td>\n",
       "      <td>PAZ, GRAL. AV. y DE LOS CORRALES AV.</td>\n",
       "      <td>9</td>\n",
       "      <td>Point (95832.05571093 95505.41641999)</td>\n",
       "      <td>-58.50877521</td>\n",
       "      <td>-34.66977709</td>\n",
       "      <td>AUTO-PASAJEROS</td>\n",
       "      <td>AUTO</td>\n",
       "      <td>PASAJEROS</td>\n",
       "    </tr>\n",
       "  </tbody>\n",
       "</table>\n",
       "<p>2 rows × 21 columns</p>\n",
       "</div>"
      ],
      "text/plain": [
       "          ID  N_VICTIMAS      FECHA  AAAA  MM  DD      HORA HH  \\\n",
       "0  2016-0001           1 2016-01-01  2016   1   1  04:00:00  4   \n",
       "1  2016-0002           1 2016-01-02  2016   1   2  01:15:00  1   \n",
       "\n",
       "                             LUGAR_DEL_HECHO TIPO_DE_CALLE  ... Altura  \\\n",
       "0  AV PIEDRA BUENA Y AV FERNANDEZ DE LA CRUZ       AVENIDA  ...    NaN   \n",
       "1          AV GRAL PAZ  Y AV DE LOS CORRALES      GRAL PAZ  ...    NaN   \n",
       "\n",
       "                                 Cruce  \\\n",
       "0  FERNANDEZ DE LA CRUZ, F., GRAL. AV.   \n",
       "1                  DE LOS CORRALES AV.   \n",
       "\n",
       "                               Dirección Normalizada COMUNA  \\\n",
       "0  PIEDRA BUENA AV. y FERNANDEZ DE LA CRUZ, F., G...      8   \n",
       "1               PAZ, GRAL. AV. y DE LOS CORRALES AV.      9   \n",
       "\n",
       "                               XY (CABA)         pos x         pos y  \\\n",
       "0  Point (98896.78238426 93532.43437792)  -58.47533969  -34.68757022   \n",
       "1  Point (95832.05571093 95505.41641999)  -58.50877521  -34.66977709   \n",
       "\n",
       "    PARTICIPANTES VICTIMA    ACUSADO  \n",
       "0       MOTO-AUTO    MOTO       AUTO  \n",
       "1  AUTO-PASAJEROS    AUTO  PASAJEROS  \n",
       "\n",
       "[2 rows x 21 columns]"
      ]
     },
     "execution_count": 4,
     "metadata": {},
     "output_type": "execute_result"
    }
   ],
   "source": [
    "homicidios.head(2)"
   ]
  },
  {
   "cell_type": "markdown",
   "metadata": {},
   "source": [
    "la columna **lugar del hecho** no cuenta con valores nulos, asi que la usaremos para crear una nueva columna **LUGAR_DEL_HECHO_NORMALIZADO** Y luego quitaremos las columnas que no interesan"
   ]
  },
  {
   "cell_type": "code",
   "execution_count": 5,
   "metadata": {},
   "outputs": [],
   "source": [
    "homicidios['LUGAR_DEL_HECHO_NORMALIZADO'] = homicidios['LUGAR_DEL_HECHO'].str.upper() \\\n",
    "    .str.replace(' Y ', ' & ') \\\n",
    "    .str.replace(r'\\bAV(ENIDA)?\\b', '') \\\n",
    "    .str.replace(r'\\s+', ' ') \\\n",
    "    .str.strip()"
   ]
  },
  {
   "cell_type": "code",
   "execution_count": 6,
   "metadata": {},
   "outputs": [],
   "source": [
    "columnas = ['LUGAR_DEL_HECHO', 'Dirección Normalizada','AAAA','MM','Altura','DD','PARTICIPANTES', 'XY (CABA)', 'Cruce']\n",
    "homicidios = homicidios.drop(columns=columnas)"
   ]
  },
  {
   "cell_type": "code",
   "execution_count": 7,
   "metadata": {},
   "outputs": [],
   "source": [
    "columnas = homicidios.columns.tolist()\n",
    "indice_calle = columnas.index('Calle')\n",
    "columnas.insert(indice_calle + 1, 'LUGAR_DEL_HECHO_NORMALIZADO')\n",
    "homicidios = homicidios[columnas]"
   ]
  },
  {
   "cell_type": "markdown",
   "metadata": {},
   "source": [
    "Obsevamos los formatos de cada columna y nos damos cuenta lo siguiente:\n",
    "\n",
    "**ID:**\n",
    "Tiene valores numericos pero con un caracter '-' que lo quitaremos para poder volverlo numerico\n",
    "\n",
    "**HORA:** \n",
    "Tiene falores SD que seran necesario transformar para convertirlo a formato hora en SQL\n",
    "\n",
    "**HH:**\n",
    "Contiene valores tipo SD que  impiden su paso a formato Entero\n",
    "\n",
    "**pos x & pos y:**\n",
    "representan longitud y latitud respectivamente, seran tratados y conveertidos a float para un mejor manejo\n",
    "\n",
    "**VICTIMA,ACUSADO,CALLE:**\n",
    "sus valores 'SD' seran pasados a DESCONOCIDO\n"
   ]
  },
  {
   "cell_type": "code",
   "execution_count": 8,
   "metadata": {},
   "outputs": [
    {
     "data": {
      "text/plain": [
       "ID                                     object\n",
       "N_VICTIMAS                              int64\n",
       "FECHA                          datetime64[ns]\n",
       "HORA                                   object\n",
       "HH                                     object\n",
       "TIPO_DE_CALLE                          object\n",
       "Calle                                  object\n",
       "LUGAR_DEL_HECHO_NORMALIZADO            object\n",
       "COMUNA                                  int64\n",
       "pos x                                  object\n",
       "pos y                                  object\n",
       "VICTIMA                                object\n",
       "ACUSADO                                object\n",
       "dtype: object"
      ]
     },
     "execution_count": 8,
     "metadata": {},
     "output_type": "execute_result"
    }
   ],
   "source": [
    "homicidios = homicidios.loc[:, ~homicidios.columns.duplicated()]\n",
    "homicidios.dtypes"
   ]
  },
  {
   "cell_type": "code",
   "execution_count": 9,
   "metadata": {},
   "outputs": [],
   "source": [
    "homicidios['ID'] = homicidios['ID'].str.replace('-', '')\n",
    "homicidios['ID'] = pd.to_numeric(homicidios['ID'])\n",
    "homicidios['HH'] = pd.to_numeric(homicidios['HH'], errors='coerce')\n",
    "homicidios.rename(columns={'pos x': 'longitud',\n",
    "                           'pos y': 'Latitud'}, inplace= True)"
   ]
  },
  {
   "cell_type": "code",
   "execution_count": 10,
   "metadata": {},
   "outputs": [
    {
     "data": {
      "text/plain": [
       "ID                             0\n",
       "N_VICTIMAS                     0\n",
       "FECHA                          0\n",
       "HORA                           0\n",
       "HH                             1\n",
       "TIPO_DE_CALLE                  0\n",
       "Calle                          1\n",
       "LUGAR_DEL_HECHO_NORMALIZADO    0\n",
       "COMUNA                         0\n",
       "longitud                       0\n",
       "Latitud                        0\n",
       "VICTIMA                        0\n",
       "ACUSADO                        0\n",
       "dtype: int64"
      ]
     },
     "execution_count": 10,
     "metadata": {},
     "output_type": "execute_result"
    }
   ],
   "source": [
    "homicidios.isnull().sum()"
   ]
  },
  {
   "cell_type": "code",
   "execution_count": 11,
   "metadata": {},
   "outputs": [
    {
     "name": "stdout",
     "output_type": "stream",
     "text": [
      "           ID  N_VICTIMAS      FECHA      HORA    HH TIPO_DE_CALLE Calle  \\\n",
      "119  20160151           1 2016-11-18  20:35:00  20.0         CALLE   NaN   \n",
      "\n",
      "    LUGAR_DEL_HECHO_NORMALIZADO  COMUNA longitud Latitud VICTIMA ACUSADO  \n",
      "119                          SD       0        .       .  PEATON      SD  \n",
      "           ID  N_VICTIMAS      FECHA HORA  HH TIPO_DE_CALLE           Calle  \\\n",
      "518  20190103           1 2019-12-18   SD NaN      GRAL PAZ  PAZ, GRAL. AV.   \n",
      "\n",
      "    LUGAR_DEL_HECHO_NORMALIZADO  COMUNA      longitud       Latitud VICTIMA  \\\n",
      "518     PAZ, GRAL. AV. & GRIVEO      11  -58.52169422  -34.59471640    MOTO   \n",
      "\n",
      "    ACUSADO  \n",
      "518    MOTO  \n"
     ]
    }
   ],
   "source": [
    "null_HH = homicidios.loc[homicidios['HH'].isnull()]\n",
    "null_calle = homicidios.loc[homicidios['Calle'].isnull()]\n",
    "print(null_calle)\n",
    "print(null_HH)"
   ]
  },
  {
   "cell_type": "code",
   "execution_count": 12,
   "metadata": {},
   "outputs": [
    {
     "name": "stderr",
     "output_type": "stream",
     "text": [
      "C:\\Users\\OS\\AppData\\Local\\Temp\\ipykernel_18836\\1592614858.py:1: FutureWarning: Setting an item of incompatible dtype is deprecated and will raise an error in a future version of pandas. Value '00' has dtype incompatible with float64, please explicitly cast to a compatible dtype first.\n",
      "  homicidios.loc[homicidios['HH'].isnull(), 'HH'] = '00'\n"
     ]
    }
   ],
   "source": [
    "homicidios.loc[homicidios['HH'].isnull(), 'HH'] = '00'\n",
    "homicidios['HH'] = pd.to_numeric(homicidios['HH'])\n",
    "homicidios.loc[homicidios['Calle'].isnull(), 'Calle'] = 'DESCONOCIDO'\n"
   ]
  },
  {
   "cell_type": "code",
   "execution_count": 13,
   "metadata": {},
   "outputs": [],
   "source": [
    "homicidios.loc[homicidios['HORA'] == 'SD', 'HORA'] = '00:00:00'\n",
    "homicidios.loc[homicidios['VICTIMA'] == 'SD', 'VICTIMA'] = 'DESCONOCIDO'\n",
    "homicidios.loc[homicidios['ACUSADO'] == 'SD', 'ACUSADO'] = 'DESCONOCIDO'"
   ]
  },
  {
   "cell_type": "code",
   "execution_count": 14,
   "metadata": {},
   "outputs": [],
   "source": [
    "homicidios['Latitud'] = homicidios['Latitud'].str.replace(',', '.')\n",
    "homicidios['longitud'] = homicidios['longitud'].str.replace(',', '.')\n",
    "homicidios = homicidios[homicidios['Latitud'] != '.']\n",
    "homicidios = homicidios[homicidios['longitud'] != '.']\n",
    "homicidios['Latitud'] = homicidios['Latitud'].astype(float)\n",
    "homicidios['longitud'] = homicidios['longitud'].astype(float)"
   ]
  },
  {
   "cell_type": "code",
   "execution_count": 15,
   "metadata": {},
   "outputs": [],
   "source": [
    "homicidios['HH'] = homicidios['HH'].astype(int)"
   ]
  },
  {
   "cell_type": "markdown",
   "metadata": {},
   "source": [
    "## Lesiones\n",
    "\n",
    "este archivo requiere un trabajo mas extenso\n",
    "\n",
    "tiene una cantidad de nulos y valores 'SD', y columnas que hay que tratar, eliminar o modificar para crear un archivo listo para analizar y cargar a SQL"
   ]
  },
  {
   "cell_type": "code",
   "execution_count": 16,
   "metadata": {},
   "outputs": [],
   "source": [
    "lesiones['direc_normalizada'] = lesiones['otra_direccion'].apply(lambda x: x.lower() if pd.notnull(x) else x)\n"
   ]
  },
  {
   "cell_type": "markdown",
   "metadata": {},
   "source": [
    "Las columnas:\n",
    "\n",
    "**'aaaa','mm','dd'**\n",
    "\n",
    "**'calle','altura','geocodificacion_CABA'**\n",
    "\n",
    "**'participantes','moto','auto','transporte_publico'**\n",
    "\n",
    "**'camion','ciclista','direccion_normalizada', 'cruce','otra_direccion'**\n",
    "\n",
    "seran quitadas puesto no aportan nada relevante"
   ]
  },
  {
   "cell_type": "code",
   "execution_count": 17,
   "metadata": {},
   "outputs": [],
   "source": [
    "columnas = ['aaaa','mm','dd','calle','altura','geocodificacion_CABA','participantes','moto','auto','transporte_publico','camion','ciclista','direccion_normalizada', 'cruce','otra_direccion']\n",
    "lesiones = lesiones.drop(columns=columnas)"
   ]
  },
  {
   "cell_type": "markdown",
   "metadata": {},
   "source": [
    "Se quitan los caracteres no numericos de **id**\n",
    "\n",
    "se pasa a formato datetime a la columna **fecha**\n",
    "\n",
    "se inserta la columna **direc_normalizada** antes de *longitud* y se le cambian los valores 'SD' a 'sin datos'\n",
    "\n",
    "se toman los valores nulos, SD y 'No especificada' (hay uno solo de este ultimo) a 0, valor numerico que queda como indicador de desconocido"
   ]
  },
  {
   "cell_type": "code",
   "execution_count": 18,
   "metadata": {},
   "outputs": [],
   "source": [
    "lesiones['id'] = lesiones['id'].str.replace(r'\\D', '', regex=True)\n",
    "lesiones['fecha'] = pd.to_datetime(lesiones['fecha']).dt.strftime('%Y-%m-%d')\n",
    "columnas = lesiones.columns.tolist()\n",
    "indice_longitud = columnas.index('longitud')\n",
    "columnas.insert(indice_longitud, 'direc_normalizada')\n",
    "lesiones = lesiones[columnas]\n",
    "lesiones['direc_normalizada'] = lesiones['direc_normalizada'].replace('sd', 'sin datos', regex=True)\n",
    "lesiones = lesiones.loc[:,~lesiones.columns.duplicated()]"
   ]
  },
  {
   "cell_type": "code",
   "execution_count": 19,
   "metadata": {},
   "outputs": [
    {
     "name": "stderr",
     "output_type": "stream",
     "text": [
      "C:\\Users\\OS\\AppData\\Local\\Temp\\ipykernel_18836\\3351253537.py:2: FutureWarning: Downcasting behavior in `replace` is deprecated and will be removed in a future version. To retain the old behavior, explicitly call `result.infer_objects(copy=False)`. To opt-in to the future behavior, set `pd.set_option('future.no_silent_downcasting', True)`\n",
      "  lesiones['comuna'] = lesiones['comuna'].replace('No Especificada', 0)\n"
     ]
    }
   ],
   "source": [
    "lesiones['comuna'] = lesiones['comuna'].replace('SD', 0)\n",
    "lesiones['comuna'] = lesiones['comuna'].replace('No Especificada', 0)\n",
    "lesiones['comuna'] = lesiones['comuna'].fillna(0)\n",
    "lesiones['comuna'] = pd.to_numeric(lesiones['comuna'])"
   ]
  },
  {
   "cell_type": "markdown",
   "metadata": {},
   "source": [
    "Le daremos formato de hora a la columna *hora*\n",
    "\n",
    "la columna **tipo_Calle** no cuenta con valores nulos pero si muchos tipo 'SD' los cuales transformaremos en:\n",
    "\n",
    "- AUTOPISTA\n",
    "- AVENIDA\n",
    "- CALLE\n",
    "- GRAL PAZ\n",
    "\n",
    "esto lo haremos en base a los valores de 'direc_normalizada'"
   ]
  },
  {
   "cell_type": "code",
   "execution_count": 20,
   "metadata": {},
   "outputs": [],
   "source": [
    "def convertir_formato_hora(hora):\n",
    "    hora_datetime = pd.to_datetime(hora, format='%H:%M:%S', errors='coerce')\n",
    "    hora_24h = hora_datetime.strftime('%H:%M:%S') if not pd.isnull(hora_datetime) else None\n",
    "    return hora_24h\n",
    "lesiones['hora'] = lesiones['hora'].apply(convertir_formato_hora)"
   ]
  },
  {
   "cell_type": "code",
   "execution_count": 21,
   "metadata": {},
   "outputs": [],
   "source": [
    "lesiones.loc[lesiones['direc_normalizada'].str.contains('autopista', case=False), 'tipo_calle'] = 'AUTOPISTA'\n",
    "lesiones.loc[lesiones['direc_normalizada'].str.contains('av.', case=False), 'tipo_calle'] = 'AVENIDA'\n",
    "lesiones.loc[lesiones['direc_normalizada'].str.contains('calle', case=False), 'tipo_calle'] = 'CALLE'\n",
    "lesiones.loc[lesiones['direc_normalizada'] == 'paz, gral. av.', 'tipo_calle'] = 'GRAL PAZ'\n",
    "lesiones.loc[lesiones['tipo_calle'] == 'SD', 'tipo_calle'] = 'CALLE'\n"
   ]
  },
  {
   "cell_type": "markdown",
   "metadata": {},
   "source": [
    "para las columnas de **latitud** y **longitud** llenaremos los valores nulos con 0 y luego reemplazaramos los outliers y los valores iguales a 0 con la media de cada columna\n"
   ]
  },
  {
   "cell_type": "code",
   "execution_count": 22,
   "metadata": {},
   "outputs": [],
   "source": [
    "lesiones['latutid'] =lesiones['latutid'].fillna(00.00000)\n",
    "lesiones['longitud'] =lesiones['longitud'].fillna(00.00000)\n",
    "lesiones['latutid'] =lesiones['latutid'].replace('SD',00.00000)\n",
    "lesiones['longitud'] =lesiones['longitud'].replace('SD',00.00000)"
   ]
  },
  {
   "cell_type": "code",
   "execution_count": 23,
   "metadata": {},
   "outputs": [],
   "source": [
    "lesiones.rename(columns={'latutid': 'latitud'}, inplace=True)\n",
    "lesiones['latitud'] = lesiones['latitud'].astype(float)\n",
    "lesiones['longitud'] = lesiones['longitud'].astype(float)\n",
    "lesiones['latitud'] = lesiones['latitud'].round(8)\n",
    "lesiones['longitud'] = lesiones['longitud'].round(8)\n",
    "lesiones.loc[lesiones['latitud'] == 0, 'latitud'] = lesiones['latitud'].replace(0, lesiones.loc[lesiones['latitud'] != 0, 'latitud'].mean()).round(8)\n",
    "lesiones.loc[lesiones['longitud'] == 0, 'longitud'] = lesiones['longitud'].replace(0, lesiones.loc[lesiones['longitud'] != 0, 'longitud'].mean()).round(8)\n",
    "pd.options.display.float_format = '{:.8f}'.format\n",
    "lesiones.loc[23784, 'longitud'] = -58.29963273\n",
    "lesiones.loc[23784, 'latitud'] = -34.72890716"
   ]
  },
  {
   "cell_type": "code",
   "execution_count": 24,
   "metadata": {},
   "outputs": [],
   "source": [
    "lesiones['comuna'] = lesiones['comuna'].astype(int)\n",
    "lesiones['n_victimas'] = lesiones['n_victimas'].astype(int)\n",
    "lesiones.loc[lesiones['gravedad'] == 'SD', 'gravedad'] = 'Sin Gravedad'\n",
    "lesiones.loc[lesiones['acusado'] == 'SD', 'acusado'] = 'desconocido'\n",
    "lesiones.loc[lesiones['victima'] == 'SD', 'victima'] = 'desconocido'"
   ]
  },
  {
   "cell_type": "code",
   "execution_count": 25,
   "metadata": {},
   "outputs": [],
   "source": [
    "# errores al cargar long y lat\n",
    "long_med_f = lesiones.loc[(lesiones['longitud'] > -180.0) & (lesiones['longitud'] < 180.0), 'longitud']\n",
    "lat_med_f = lesiones.loc[(lesiones['latitud'] > -180.0) & (lesiones['latitud'] < 180.0), 'latitud']\n",
    "long_med = round(long_med_f.mean(),8)\n",
    "lat_med = round(lat_med_f.mean(),8)\n",
    "lesiones.loc[lesiones['longitud'] < -180.0, 'longitud'] = long_med\n",
    "lesiones.loc[lesiones['longitud'] > 180.0, 'longitud'] = long_med\n",
    "lesiones.loc[lesiones['latitud'] < -180.0, 'latitud'] = lat_med\n",
    "lesiones.loc[lesiones['latitud'] > 180.0, 'latitud'] = lat_med"
   ]
  },
  {
   "cell_type": "markdown",
   "metadata": {},
   "source": [
    "Reemplazaremos los valores nulos en **franja_hora** con la media de esta misma columna, para luego rellenar los datos vacios en la columna **hora** con su valor consecuente de **franja_hora**"
   ]
  },
  {
   "cell_type": "code",
   "execution_count": 26,
   "metadata": {},
   "outputs": [
    {
     "name": "stderr",
     "output_type": "stream",
     "text": [
      "C:\\Users\\OS\\AppData\\Local\\Temp\\ipykernel_18836\\3302146950.py:4: FutureWarning: A value is trying to be set on a copy of a DataFrame or Series through chained assignment using an inplace method.\n",
      "The behavior will change in pandas 3.0. This inplace method will never work because the intermediate object on which we are setting values always behaves as a copy.\n",
      "\n",
      "For example, when doing 'df[col].method(value, inplace=True)', try using 'df.method({col: value}, inplace=True)' or df[col] = df[col].method(value) instead, to perform the operation inplace on the original object.\n",
      "\n",
      "\n",
      "  lesiones['franja_hora'].fillna(med, inplace= True)\n",
      "C:\\Users\\OS\\AppData\\Local\\Temp\\ipykernel_18836\\3302146950.py:4: FutureWarning: Downcasting object dtype arrays on .fillna, .ffill, .bfill is deprecated and will change in a future version. Call result.infer_objects(copy=False) instead. To opt-in to the future behavior, set `pd.set_option('future.no_silent_downcasting', True)`\n",
      "  lesiones['franja_hora'].fillna(med, inplace= True)\n"
     ]
    }
   ],
   "source": [
    "# manejo de nulos en hora y despues se llenara franja_hora\n",
    "lesiones['franja_hora'] = lesiones['franja_hora'].replace(['sd','SD'], pd.NA)\n",
    "med = round(lesiones['franja_hora'].mean(skipna= True))\n",
    "lesiones['franja_hora'].fillna(med, inplace= True)\n",
    "lesiones['hora'] = lesiones['hora'].fillna(lesiones['franja_hora'].astype(str).str[:2] + ':00:00')"
   ]
  },
  {
   "cell_type": "markdown",
   "metadata": {},
   "source": [
    "comenzaremos con el dataframe \n",
    "# victima"
   ]
  },
  {
   "cell_type": "code",
   "execution_count": 27,
   "metadata": {},
   "outputs": [
    {
     "data": {
      "text/html": [
       "<div>\n",
       "<style scoped>\n",
       "    .dataframe tbody tr th:only-of-type {\n",
       "        vertical-align: middle;\n",
       "    }\n",
       "\n",
       "    .dataframe tbody tr th {\n",
       "        vertical-align: top;\n",
       "    }\n",
       "\n",
       "    .dataframe thead th {\n",
       "        text-align: right;\n",
       "    }\n",
       "</style>\n",
       "<table border=\"1\" class=\"dataframe\">\n",
       "  <thead>\n",
       "    <tr style=\"text-align: right;\">\n",
       "      <th></th>\n",
       "      <th>ID_hecho</th>\n",
       "      <th>FECHA</th>\n",
       "      <th>AAAA</th>\n",
       "      <th>MM</th>\n",
       "      <th>DD</th>\n",
       "      <th>ROL</th>\n",
       "      <th>VICTIMA</th>\n",
       "      <th>SEXO</th>\n",
       "      <th>EDAD</th>\n",
       "      <th>FECHA_FALLECIMIENTO</th>\n",
       "    </tr>\n",
       "  </thead>\n",
       "  <tbody>\n",
       "    <tr>\n",
       "      <th>0</th>\n",
       "      <td>2016-0001</td>\n",
       "      <td>2016-01-01</td>\n",
       "      <td>2016</td>\n",
       "      <td>1</td>\n",
       "      <td>1</td>\n",
       "      <td>CONDUCTOR</td>\n",
       "      <td>MOTO</td>\n",
       "      <td>MASCULINO</td>\n",
       "      <td>19</td>\n",
       "      <td>2016-01-01 00:00:00</td>\n",
       "    </tr>\n",
       "    <tr>\n",
       "      <th>1</th>\n",
       "      <td>2016-0002</td>\n",
       "      <td>2016-01-02</td>\n",
       "      <td>2016</td>\n",
       "      <td>1</td>\n",
       "      <td>2</td>\n",
       "      <td>CONDUCTOR</td>\n",
       "      <td>AUTO</td>\n",
       "      <td>MASCULINO</td>\n",
       "      <td>70</td>\n",
       "      <td>2016-01-02 00:00:00</td>\n",
       "    </tr>\n",
       "    <tr>\n",
       "      <th>2</th>\n",
       "      <td>2016-0003</td>\n",
       "      <td>2016-01-03</td>\n",
       "      <td>2016</td>\n",
       "      <td>1</td>\n",
       "      <td>3</td>\n",
       "      <td>CONDUCTOR</td>\n",
       "      <td>MOTO</td>\n",
       "      <td>MASCULINO</td>\n",
       "      <td>30</td>\n",
       "      <td>2016-01-03 00:00:00</td>\n",
       "    </tr>\n",
       "    <tr>\n",
       "      <th>3</th>\n",
       "      <td>2016-0004</td>\n",
       "      <td>2016-01-10</td>\n",
       "      <td>2016</td>\n",
       "      <td>1</td>\n",
       "      <td>10</td>\n",
       "      <td>CONDUCTOR</td>\n",
       "      <td>MOTO</td>\n",
       "      <td>MASCULINO</td>\n",
       "      <td>18</td>\n",
       "      <td>SD</td>\n",
       "    </tr>\n",
       "    <tr>\n",
       "      <th>4</th>\n",
       "      <td>2016-0005</td>\n",
       "      <td>2016-01-21</td>\n",
       "      <td>2016</td>\n",
       "      <td>1</td>\n",
       "      <td>21</td>\n",
       "      <td>CONDUCTOR</td>\n",
       "      <td>MOTO</td>\n",
       "      <td>MASCULINO</td>\n",
       "      <td>29</td>\n",
       "      <td>2016-02-01 00:00:00</td>\n",
       "    </tr>\n",
       "  </tbody>\n",
       "</table>\n",
       "</div>"
      ],
      "text/plain": [
       "    ID_hecho      FECHA  AAAA  MM  DD        ROL VICTIMA       SEXO EDAD  \\\n",
       "0  2016-0001 2016-01-01  2016   1   1  CONDUCTOR    MOTO  MASCULINO   19   \n",
       "1  2016-0002 2016-01-02  2016   1   2  CONDUCTOR    AUTO  MASCULINO   70   \n",
       "2  2016-0003 2016-01-03  2016   1   3  CONDUCTOR    MOTO  MASCULINO   30   \n",
       "3  2016-0004 2016-01-10  2016   1  10  CONDUCTOR    MOTO  MASCULINO   18   \n",
       "4  2016-0005 2016-01-21  2016   1  21  CONDUCTOR    MOTO  MASCULINO   29   \n",
       "\n",
       "   FECHA_FALLECIMIENTO  \n",
       "0  2016-01-01 00:00:00  \n",
       "1  2016-01-02 00:00:00  \n",
       "2  2016-01-03 00:00:00  \n",
       "3                   SD  \n",
       "4  2016-02-01 00:00:00  "
      ]
     },
     "execution_count": 27,
     "metadata": {},
     "output_type": "execute_result"
    }
   ],
   "source": [
    "victimas.head()"
   ]
  },
  {
   "cell_type": "markdown",
   "metadata": {},
   "source": [
    "quitamos las columnas que no nos brindan informacion util"
   ]
  },
  {
   "cell_type": "code",
   "execution_count": 28,
   "metadata": {},
   "outputs": [],
   "source": [
    "columnas = ['AAAA','MM','DD']\n",
    "victimas.drop(columns= columnas,inplace= True)"
   ]
  },
  {
   "cell_type": "markdown",
   "metadata": {},
   "source": [
    "tratermoss los valores **\"SD\"**"
   ]
  },
  {
   "cell_type": "code",
   "execution_count": 29,
   "metadata": {},
   "outputs": [
    {
     "data": {
      "text/plain": [
       "ID_hecho                0\n",
       "FECHA                   0\n",
       "ROL                    11\n",
       "VICTIMA                 9\n",
       "SEXO                    6\n",
       "EDAD                   53\n",
       "FECHA_FALLECIMIENTO    68\n",
       "dtype: int64"
      ]
     },
     "execution_count": 29,
     "metadata": {},
     "output_type": "execute_result"
    }
   ],
   "source": [
    "victimas.eq(\"SD\").sum()"
   ]
  },
  {
   "cell_type": "code",
   "execution_count": 30,
   "metadata": {},
   "outputs": [
    {
     "name": "stdout",
     "output_type": "stream",
     "text": [
      "<class 'pandas.core.frame.DataFrame'>\n",
      "RangeIndex: 717 entries, 0 to 716\n",
      "Data columns (total 7 columns):\n",
      " #   Column               Non-Null Count  Dtype         \n",
      "---  ------               --------------  -----         \n",
      " 0   ID_hecho             717 non-null    object        \n",
      " 1   FECHA                717 non-null    datetime64[ns]\n",
      " 2   ROL                  717 non-null    object        \n",
      " 3   VICTIMA              717 non-null    object        \n",
      " 4   SEXO                 717 non-null    object        \n",
      " 5   EDAD                 717 non-null    object        \n",
      " 6   FECHA_FALLECIMIENTO  717 non-null    object        \n",
      "dtypes: datetime64[ns](1), object(6)\n",
      "memory usage: 39.3+ KB\n"
     ]
    }
   ],
   "source": [
    "\n",
    "victimas.info()"
   ]
  },
  {
   "cell_type": "markdown",
   "metadata": {},
   "source": [
    "haremos las transformaciones pertinentes\n",
    "\n",
    "- **ID_hecho** se quitan los \"-\" y se vuelve a tipo de dato entero\n",
    "- **FECHA** se transforma su formato a datetime\n",
    "- **ROL** se cambian los valores de ***SD*** y ***pasajero_acompañante*** a \"DESCONOCIDO\" y \"PASAJERO\" respectivamente\n",
    "- **VICTIMA** se cambian los valores de ***SD*** a \"DESCONOCIDO\"\n",
    "- **EDAD** se reemplazan los valores ***SD*** por la media de la columna y luego se pasa a valor entero\n",
    "- **FECHA_FALLECIMIENTO** se quitan los nulos puesto que se interpeta que el accidentado no murió"
   ]
  },
  {
   "cell_type": "code",
   "execution_count": 31,
   "metadata": {},
   "outputs": [],
   "source": [
    "victimas['ID_hecho'] = victimas['ID_hecho'].str.replace('-', '')\n",
    "victimas['ID_hecho']=victimas['ID_hecho'].astype(int)\n",
    "victimas['FECHA'] = pd.to_datetime(victimas['FECHA'])\n",
    "victimas['ROL'] = victimas['ROL'].replace({'SD': 'DESCONOCIDO', 'PASAJERO_ACOMPAÑANTE': 'PASAJERO'})\n",
    "victimas['VICTIMA'] = victimas['VICTIMA'].replace({'SD': 'DESCONOCIDO'})\n",
    "victimas['SEXO'] = victimas['SEXO'].replace({'SD': 'DESCONOCIDO'})\n",
    "victimas['EDAD'] = pd.to_numeric(victimas['EDAD'], errors='coerce',) \n",
    "edad_media = victimas['EDAD'].mean()\n",
    "victimas['EDAD'] = victimas['EDAD'].fillna(edad_media)\n",
    "victimas['EDAD'] = victimas['EDAD'].astype(int)\n",
    "victimas = victimas[victimas['FECHA_FALLECIMIENTO'] != 'SD']\n"
   ]
  },
  {
   "cell_type": "markdown",
   "metadata": {},
   "source": [
    "se unen los dataframes de ***Homicidios*** y ***victimas***\n",
    "\n",
    "quedando merged_df como dataframe que contiene todas las columnas de Homicidios y la columnas **'SEXO', 'EDAD', 'ROL'** como columnas agregadas\n",
    "\n",
    "la union se hace a traves de\n",
    "## homicidios['ID'] == victimas['ID_hecho']"
   ]
  },
  {
   "cell_type": "code",
   "execution_count": 32,
   "metadata": {},
   "outputs": [
    {
     "data": {
      "text/html": [
       "<div>\n",
       "<style scoped>\n",
       "    .dataframe tbody tr th:only-of-type {\n",
       "        vertical-align: middle;\n",
       "    }\n",
       "\n",
       "    .dataframe tbody tr th {\n",
       "        vertical-align: top;\n",
       "    }\n",
       "\n",
       "    .dataframe thead th {\n",
       "        text-align: right;\n",
       "    }\n",
       "</style>\n",
       "<table border=\"1\" class=\"dataframe\">\n",
       "  <thead>\n",
       "    <tr style=\"text-align: right;\">\n",
       "      <th></th>\n",
       "      <th>ID</th>\n",
       "      <th>N_VICTIMAS</th>\n",
       "      <th>FECHA</th>\n",
       "      <th>HORA</th>\n",
       "      <th>HH</th>\n",
       "      <th>TIPO_DE_CALLE</th>\n",
       "      <th>Calle</th>\n",
       "      <th>LUGAR_DEL_HECHO_NORMALIZADO</th>\n",
       "      <th>COMUNA</th>\n",
       "      <th>longitud</th>\n",
       "      <th>Latitud</th>\n",
       "      <th>VICTIMA</th>\n",
       "      <th>ACUSADO</th>\n",
       "      <th>SEXO</th>\n",
       "      <th>EDAD</th>\n",
       "      <th>ROL_VICTIMA</th>\n",
       "    </tr>\n",
       "  </thead>\n",
       "  <tbody>\n",
       "    <tr>\n",
       "      <th>0</th>\n",
       "      <td>20160001</td>\n",
       "      <td>1</td>\n",
       "      <td>2016-01-01</td>\n",
       "      <td>04:00:00</td>\n",
       "      <td>4</td>\n",
       "      <td>AVENIDA</td>\n",
       "      <td>PIEDRA BUENA AV.</td>\n",
       "      <td>AV PIEDRA BUENA &amp; AV FERNANDEZ DE LA CRUZ</td>\n",
       "      <td>8</td>\n",
       "      <td>-58.47533969</td>\n",
       "      <td>-34.68757022</td>\n",
       "      <td>MOTO</td>\n",
       "      <td>AUTO</td>\n",
       "      <td>MASCULINO</td>\n",
       "      <td>19.00000000</td>\n",
       "      <td>CONDUCTOR</td>\n",
       "    </tr>\n",
       "    <tr>\n",
       "      <th>1</th>\n",
       "      <td>20160002</td>\n",
       "      <td>1</td>\n",
       "      <td>2016-01-02</td>\n",
       "      <td>01:15:00</td>\n",
       "      <td>1</td>\n",
       "      <td>GRAL PAZ</td>\n",
       "      <td>PAZ, GRAL. AV.</td>\n",
       "      <td>AV GRAL PAZ  &amp; AV DE LOS CORRALES</td>\n",
       "      <td>9</td>\n",
       "      <td>-58.50877521</td>\n",
       "      <td>-34.66977709</td>\n",
       "      <td>AUTO</td>\n",
       "      <td>PASAJEROS</td>\n",
       "      <td>MASCULINO</td>\n",
       "      <td>70.00000000</td>\n",
       "      <td>CONDUCTOR</td>\n",
       "    </tr>\n",
       "    <tr>\n",
       "      <th>2</th>\n",
       "      <td>20160003</td>\n",
       "      <td>1</td>\n",
       "      <td>2016-01-03</td>\n",
       "      <td>07:00:00</td>\n",
       "      <td>7</td>\n",
       "      <td>AVENIDA</td>\n",
       "      <td>ENTRE RIOS AV.</td>\n",
       "      <td>AV ENTRE RIOS 2034</td>\n",
       "      <td>1</td>\n",
       "      <td>-58.39040293</td>\n",
       "      <td>-34.63189362</td>\n",
       "      <td>MOTO</td>\n",
       "      <td>AUTO</td>\n",
       "      <td>MASCULINO</td>\n",
       "      <td>30.00000000</td>\n",
       "      <td>CONDUCTOR</td>\n",
       "    </tr>\n",
       "    <tr>\n",
       "      <th>3</th>\n",
       "      <td>20160004</td>\n",
       "      <td>1</td>\n",
       "      <td>2016-01-10</td>\n",
       "      <td>00:00:00</td>\n",
       "      <td>0</td>\n",
       "      <td>AVENIDA</td>\n",
       "      <td>LARRAZABAL AV.</td>\n",
       "      <td>AV LARRAZABAL &amp; GRAL VILLEGAS CONRADO</td>\n",
       "      <td>8</td>\n",
       "      <td>-58.46503904</td>\n",
       "      <td>-34.68092974</td>\n",
       "      <td>MOTO</td>\n",
       "      <td>DESCONOCIDO</td>\n",
       "      <td>NaN</td>\n",
       "      <td>NaN</td>\n",
       "      <td>NaN</td>\n",
       "    </tr>\n",
       "    <tr>\n",
       "      <th>4</th>\n",
       "      <td>20160005</td>\n",
       "      <td>1</td>\n",
       "      <td>2016-01-21</td>\n",
       "      <td>05:20:00</td>\n",
       "      <td>5</td>\n",
       "      <td>AVENIDA</td>\n",
       "      <td>SAN JUAN AV.</td>\n",
       "      <td>AV SAN JUAN &amp; PRESIDENTE LUIS SAENZ PEÑA</td>\n",
       "      <td>1</td>\n",
       "      <td>-58.38718297</td>\n",
       "      <td>-34.62246630</td>\n",
       "      <td>MOTO</td>\n",
       "      <td>PASAJEROS</td>\n",
       "      <td>MASCULINO</td>\n",
       "      <td>29.00000000</td>\n",
       "      <td>CONDUCTOR</td>\n",
       "    </tr>\n",
       "  </tbody>\n",
       "</table>\n",
       "</div>"
      ],
      "text/plain": [
       "         ID  N_VICTIMAS      FECHA      HORA  HH TIPO_DE_CALLE  \\\n",
       "0  20160001           1 2016-01-01  04:00:00   4       AVENIDA   \n",
       "1  20160002           1 2016-01-02  01:15:00   1      GRAL PAZ   \n",
       "2  20160003           1 2016-01-03  07:00:00   7       AVENIDA   \n",
       "3  20160004           1 2016-01-10  00:00:00   0       AVENIDA   \n",
       "4  20160005           1 2016-01-21  05:20:00   5       AVENIDA   \n",
       "\n",
       "              Calle                LUGAR_DEL_HECHO_NORMALIZADO  COMUNA  \\\n",
       "0  PIEDRA BUENA AV.  AV PIEDRA BUENA & AV FERNANDEZ DE LA CRUZ       8   \n",
       "1    PAZ, GRAL. AV.          AV GRAL PAZ  & AV DE LOS CORRALES       9   \n",
       "2    ENTRE RIOS AV.                         AV ENTRE RIOS 2034       1   \n",
       "3    LARRAZABAL AV.      AV LARRAZABAL & GRAL VILLEGAS CONRADO       8   \n",
       "4      SAN JUAN AV.   AV SAN JUAN & PRESIDENTE LUIS SAENZ PEÑA       1   \n",
       "\n",
       "      longitud      Latitud VICTIMA      ACUSADO       SEXO        EDAD  \\\n",
       "0 -58.47533969 -34.68757022    MOTO         AUTO  MASCULINO 19.00000000   \n",
       "1 -58.50877521 -34.66977709    AUTO    PASAJEROS  MASCULINO 70.00000000   \n",
       "2 -58.39040293 -34.63189362    MOTO         AUTO  MASCULINO 30.00000000   \n",
       "3 -58.46503904 -34.68092974    MOTO  DESCONOCIDO        NaN         NaN   \n",
       "4 -58.38718297 -34.62246630    MOTO    PASAJEROS  MASCULINO 29.00000000   \n",
       "\n",
       "  ROL_VICTIMA  \n",
       "0   CONDUCTOR  \n",
       "1   CONDUCTOR  \n",
       "2   CONDUCTOR  \n",
       "3         NaN  \n",
       "4   CONDUCTOR  "
      ]
     },
     "execution_count": 32,
     "metadata": {},
     "output_type": "execute_result"
    }
   ],
   "source": [
    "merged_df = pd.merge(homicidios, victimas[['ID_hecho', 'SEXO', 'EDAD', 'ROL']], left_on='ID', right_on='ID_hecho', how='left')\n",
    "merged_df.drop(columns=['ID_hecho'], inplace=True)\n",
    "merged_df.rename(columns={'ROL': 'ROL_VICTIMA'}, inplace=True)\n",
    "merged_df.head()"
   ]
  },
  {
   "cell_type": "markdown",
   "metadata": {},
   "source": [
    "Volvemos a haceer la transformacion en edad pero esta vez con los nulos para las filas que no tuvieron union\n",
    "\n",
    "para las columnas de **SEXO, EDAD** que tienen la misma condicion, se rellena el nulo con \"DESCONOCIDO\""
   ]
  },
  {
   "cell_type": "code",
   "execution_count": 47,
   "metadata": {},
   "outputs": [
    {
     "data": {
      "text/html": [
       "<div>\n",
       "<style scoped>\n",
       "    .dataframe tbody tr th:only-of-type {\n",
       "        vertical-align: middle;\n",
       "    }\n",
       "\n",
       "    .dataframe tbody tr th {\n",
       "        vertical-align: top;\n",
       "    }\n",
       "\n",
       "    .dataframe thead th {\n",
       "        text-align: right;\n",
       "    }\n",
       "</style>\n",
       "<table border=\"1\" class=\"dataframe\">\n",
       "  <thead>\n",
       "    <tr style=\"text-align: right;\">\n",
       "      <th></th>\n",
       "      <th>ID</th>\n",
       "      <th>N_VICTIMAS</th>\n",
       "      <th>FECHA</th>\n",
       "      <th>HORA</th>\n",
       "      <th>HH</th>\n",
       "      <th>TIPO_DE_CALLE</th>\n",
       "      <th>Calle</th>\n",
       "      <th>LUGAR_DEL_HECHO_NORMALIZADO</th>\n",
       "      <th>COMUNA</th>\n",
       "      <th>longitud</th>\n",
       "      <th>Latitud</th>\n",
       "      <th>VICTIMA</th>\n",
       "      <th>ACUSADO</th>\n",
       "      <th>SEXO</th>\n",
       "      <th>EDAD</th>\n",
       "      <th>ROL_VICTIMA</th>\n",
       "    </tr>\n",
       "  </thead>\n",
       "  <tbody>\n",
       "    <tr>\n",
       "      <th>0</th>\n",
       "      <td>20160001</td>\n",
       "      <td>1</td>\n",
       "      <td>2016-01-01</td>\n",
       "      <td>04:00:00</td>\n",
       "      <td>4</td>\n",
       "      <td>AVENIDA</td>\n",
       "      <td>PIEDRA BUENA AV.</td>\n",
       "      <td>AV PIEDRA BUENA &amp; AV FERNANDEZ DE LA CRUZ</td>\n",
       "      <td>8</td>\n",
       "      <td>-58.47533969</td>\n",
       "      <td>-34.68757022</td>\n",
       "      <td>MOTO</td>\n",
       "      <td>AUTO</td>\n",
       "      <td>MASCULINO</td>\n",
       "      <td>19</td>\n",
       "      <td>CONDUCTOR</td>\n",
       "    </tr>\n",
       "    <tr>\n",
       "      <th>1</th>\n",
       "      <td>20160002</td>\n",
       "      <td>1</td>\n",
       "      <td>2016-01-02</td>\n",
       "      <td>01:15:00</td>\n",
       "      <td>1</td>\n",
       "      <td>GRAL PAZ</td>\n",
       "      <td>PAZ, GRAL. AV.</td>\n",
       "      <td>AV GRAL PAZ  &amp; AV DE LOS CORRALES</td>\n",
       "      <td>9</td>\n",
       "      <td>-58.50877521</td>\n",
       "      <td>-34.66977709</td>\n",
       "      <td>AUTO</td>\n",
       "      <td>PASAJEROS</td>\n",
       "      <td>MASCULINO</td>\n",
       "      <td>70</td>\n",
       "      <td>CONDUCTOR</td>\n",
       "    </tr>\n",
       "    <tr>\n",
       "      <th>2</th>\n",
       "      <td>20160003</td>\n",
       "      <td>1</td>\n",
       "      <td>2016-01-03</td>\n",
       "      <td>07:00:00</td>\n",
       "      <td>7</td>\n",
       "      <td>AVENIDA</td>\n",
       "      <td>ENTRE RIOS AV.</td>\n",
       "      <td>AV ENTRE RIOS 2034</td>\n",
       "      <td>1</td>\n",
       "      <td>-58.39040293</td>\n",
       "      <td>-34.63189362</td>\n",
       "      <td>MOTO</td>\n",
       "      <td>AUTO</td>\n",
       "      <td>MASCULINO</td>\n",
       "      <td>30</td>\n",
       "      <td>CONDUCTOR</td>\n",
       "    </tr>\n",
       "    <tr>\n",
       "      <th>3</th>\n",
       "      <td>20160004</td>\n",
       "      <td>1</td>\n",
       "      <td>2016-01-10</td>\n",
       "      <td>00:00:00</td>\n",
       "      <td>0</td>\n",
       "      <td>AVENIDA</td>\n",
       "      <td>LARRAZABAL AV.</td>\n",
       "      <td>AV LARRAZABAL &amp; GRAL VILLEGAS CONRADO</td>\n",
       "      <td>8</td>\n",
       "      <td>-58.46503904</td>\n",
       "      <td>-34.68092974</td>\n",
       "      <td>MOTO</td>\n",
       "      <td>DESCONOCIDO</td>\n",
       "      <td>DESCONOCIDO</td>\n",
       "      <td>42</td>\n",
       "      <td>DESCONOCIDO</td>\n",
       "    </tr>\n",
       "    <tr>\n",
       "      <th>4</th>\n",
       "      <td>20160005</td>\n",
       "      <td>1</td>\n",
       "      <td>2016-01-21</td>\n",
       "      <td>05:20:00</td>\n",
       "      <td>5</td>\n",
       "      <td>AVENIDA</td>\n",
       "      <td>SAN JUAN AV.</td>\n",
       "      <td>AV SAN JUAN &amp; PRESIDENTE LUIS SAENZ PEÑA</td>\n",
       "      <td>1</td>\n",
       "      <td>-58.38718297</td>\n",
       "      <td>-34.62246630</td>\n",
       "      <td>MOTO</td>\n",
       "      <td>PASAJEROS</td>\n",
       "      <td>MASCULINO</td>\n",
       "      <td>29</td>\n",
       "      <td>CONDUCTOR</td>\n",
       "    </tr>\n",
       "  </tbody>\n",
       "</table>\n",
       "</div>"
      ],
      "text/plain": [
       "         ID  N_VICTIMAS      FECHA      HORA  HH TIPO_DE_CALLE  \\\n",
       "0  20160001           1 2016-01-01  04:00:00   4       AVENIDA   \n",
       "1  20160002           1 2016-01-02  01:15:00   1      GRAL PAZ   \n",
       "2  20160003           1 2016-01-03  07:00:00   7       AVENIDA   \n",
       "3  20160004           1 2016-01-10  00:00:00   0       AVENIDA   \n",
       "4  20160005           1 2016-01-21  05:20:00   5       AVENIDA   \n",
       "\n",
       "              Calle                LUGAR_DEL_HECHO_NORMALIZADO  COMUNA  \\\n",
       "0  PIEDRA BUENA AV.  AV PIEDRA BUENA & AV FERNANDEZ DE LA CRUZ       8   \n",
       "1    PAZ, GRAL. AV.          AV GRAL PAZ  & AV DE LOS CORRALES       9   \n",
       "2    ENTRE RIOS AV.                         AV ENTRE RIOS 2034       1   \n",
       "3    LARRAZABAL AV.      AV LARRAZABAL & GRAL VILLEGAS CONRADO       8   \n",
       "4      SAN JUAN AV.   AV SAN JUAN & PRESIDENTE LUIS SAENZ PEÑA       1   \n",
       "\n",
       "      longitud      Latitud VICTIMA      ACUSADO         SEXO  EDAD  \\\n",
       "0 -58.47533969 -34.68757022    MOTO         AUTO    MASCULINO    19   \n",
       "1 -58.50877521 -34.66977709    AUTO    PASAJEROS    MASCULINO    70   \n",
       "2 -58.39040293 -34.63189362    MOTO         AUTO    MASCULINO    30   \n",
       "3 -58.46503904 -34.68092974    MOTO  DESCONOCIDO  DESCONOCIDO    42   \n",
       "4 -58.38718297 -34.62246630    MOTO    PASAJEROS    MASCULINO    29   \n",
       "\n",
       "   ROL_VICTIMA  \n",
       "0    CONDUCTOR  \n",
       "1    CONDUCTOR  \n",
       "2    CONDUCTOR  \n",
       "3  DESCONOCIDO  \n",
       "4    CONDUCTOR  "
      ]
     },
     "execution_count": 47,
     "metadata": {},
     "output_type": "execute_result"
    }
   ],
   "source": [
    "edad_media = merged_df['EDAD'].mean()\n",
    "merged_df['EDAD'] = merged_df['EDAD'].fillna(edad_media)\n",
    "merged_df['EDAD'] = merged_df['EDAD'].astype(int)\n",
    "merged_df['SEXO'] = merged_df['SEXO'].fillna('DESCONOCIDO')\n",
    "merged_df['ROL_VICTIMA'] = merged_df['ROL_VICTIMA'].fillna('DESCONOCIDO')\n",
    "merged_df.drop_duplicates(subset = ['ID'],keep='first',inplace=True)\n",
    "merged_df.head()\n"
   ]
  },
  {
   "cell_type": "markdown",
   "metadata": {},
   "source": [
    "si la copia del dataframe comunas se realizo bien, deberiamms tener algo como lo siguiente:"
   ]
  },
  {
   "cell_type": "code",
   "execution_count": 34,
   "metadata": {},
   "outputs": [
    {
     "data": {
      "text/html": [
       "<div>\n",
       "<style scoped>\n",
       "    .dataframe tbody tr th:only-of-type {\n",
       "        vertical-align: middle;\n",
       "    }\n",
       "\n",
       "    .dataframe tbody tr th {\n",
       "        vertical-align: top;\n",
       "    }\n",
       "\n",
       "    .dataframe thead th {\n",
       "        text-align: right;\n",
       "    }\n",
       "</style>\n",
       "<table border=\"1\" class=\"dataframe\">\n",
       "  <thead>\n",
       "    <tr style=\"text-align: right;\">\n",
       "      <th></th>\n",
       "      <th>Código</th>\n",
       "      <th>Comuna</th>\n",
       "      <th>2010</th>\n",
       "      <th>2022</th>\n",
       "      <th>Variación absoluta</th>\n",
       "      <th>Variación relativa (%)</th>\n",
       "    </tr>\n",
       "  </thead>\n",
       "  <tbody>\n",
       "    <tr>\n",
       "      <th>0</th>\n",
       "      <td>NaN</td>\n",
       "      <td>NaN</td>\n",
       "      <td>NaN</td>\n",
       "      <td>NaN</td>\n",
       "      <td>NaN</td>\n",
       "      <td>NaN</td>\n",
       "    </tr>\n",
       "    <tr>\n",
       "      <th>1</th>\n",
       "      <td>2007.00000000</td>\n",
       "      <td>Comuna 1</td>\n",
       "      <td>205.88600000</td>\n",
       "      <td>223.55400000</td>\n",
       "      <td>17.66800000</td>\n",
       "      <td>8,6</td>\n",
       "    </tr>\n",
       "    <tr>\n",
       "      <th>2</th>\n",
       "      <td>2014.00000000</td>\n",
       "      <td>Comuna 2</td>\n",
       "      <td>157.93200000</td>\n",
       "      <td>161.64500000</td>\n",
       "      <td>3.71300000</td>\n",
       "      <td>2,4</td>\n",
       "    </tr>\n",
       "    <tr>\n",
       "      <th>3</th>\n",
       "      <td>2021.00000000</td>\n",
       "      <td>Comuna 3</td>\n",
       "      <td>187.53700000</td>\n",
       "      <td>196.24000000</td>\n",
       "      <td>8.70300000</td>\n",
       "      <td>4,6</td>\n",
       "    </tr>\n",
       "    <tr>\n",
       "      <th>4</th>\n",
       "      <td>2028.00000000</td>\n",
       "      <td>Comuna 4</td>\n",
       "      <td>218.24500000</td>\n",
       "      <td>229.24000000</td>\n",
       "      <td>10.99500000</td>\n",
       "      <td>5,0</td>\n",
       "    </tr>\n",
       "  </tbody>\n",
       "</table>\n",
       "</div>"
      ],
      "text/plain": [
       "         Código    Comuna         2010         2022  Variación absoluta  \\\n",
       "0           NaN       NaN          NaN          NaN                 NaN   \n",
       "1 2007.00000000  Comuna 1 205.88600000 223.55400000         17.66800000   \n",
       "2 2014.00000000  Comuna 2 157.93200000 161.64500000          3.71300000   \n",
       "3 2021.00000000  Comuna 3 187.53700000 196.24000000          8.70300000   \n",
       "4 2028.00000000  Comuna 4 218.24500000 229.24000000         10.99500000   \n",
       "\n",
       "  Variación relativa (%)  \n",
       "0                    NaN  \n",
       "1                    8,6  \n",
       "2                    2,4  \n",
       "3                    4,6  \n",
       "4                    5,0  "
      ]
     },
     "execution_count": 34,
     "metadata": {},
     "output_type": "execute_result"
    }
   ],
   "source": [
    "comunas.head()"
   ]
  },
  {
   "cell_type": "markdown",
   "metadata": {},
   "source": [
    "Nos quedaremos solamente con lo importante, puesto que la idea de este dataframe es brindar algo de contexto en las comunas"
   ]
  },
  {
   "cell_type": "code",
   "execution_count": 35,
   "metadata": {},
   "outputs": [],
   "source": [
    "comunas = comunas.dropna(subset=['Comuna'])\n",
    "columnas = ['Código','2010','Variación absoluta', 'Variación relativa (%)']\n",
    "comunas = comunas.drop(columns= columnas)\n",
    "comunas['Comuna'] = comunas['Comuna']\n",
    "comunas['Comuna'] = comunas['Comuna'].apply(lambda x: re.findall(r'\\d+', str(x))[0] if re.findall(r'\\d+', str(x)) else None)\n",
    "comunas['2022']= comunas['2022'].astype(float).map('{:.3f}'.format)\n"
   ]
  },
  {
   "cell_type": "code",
   "execution_count": 41,
   "metadata": {},
   "outputs": [
    {
     "data": {
      "text/html": [
       "<div>\n",
       "<style scoped>\n",
       "    .dataframe tbody tr th:only-of-type {\n",
       "        vertical-align: middle;\n",
       "    }\n",
       "\n",
       "    .dataframe tbody tr th {\n",
       "        vertical-align: top;\n",
       "    }\n",
       "\n",
       "    .dataframe thead th {\n",
       "        text-align: right;\n",
       "    }\n",
       "</style>\n",
       "<table border=\"1\" class=\"dataframe\">\n",
       "  <thead>\n",
       "    <tr style=\"text-align: right;\">\n",
       "      <th></th>\n",
       "      <th>Comuna</th>\n",
       "      <th>2022</th>\n",
       "      <th>Cantidad de Localidades</th>\n",
       "    </tr>\n",
       "  </thead>\n",
       "  <tbody>\n",
       "    <tr>\n",
       "      <th>0</th>\n",
       "      <td>0</td>\n",
       "      <td>0</td>\n",
       "      <td>0</td>\n",
       "    </tr>\n",
       "    <tr>\n",
       "      <th>1</th>\n",
       "      <td>1</td>\n",
       "      <td>223.554</td>\n",
       "      <td>6</td>\n",
       "    </tr>\n",
       "    <tr>\n",
       "      <th>2</th>\n",
       "      <td>2</td>\n",
       "      <td>161.645</td>\n",
       "      <td>1</td>\n",
       "    </tr>\n",
       "    <tr>\n",
       "      <th>3</th>\n",
       "      <td>3</td>\n",
       "      <td>196.240</td>\n",
       "      <td>2</td>\n",
       "    </tr>\n",
       "    <tr>\n",
       "      <th>4</th>\n",
       "      <td>4</td>\n",
       "      <td>229.240</td>\n",
       "      <td>4</td>\n",
       "    </tr>\n",
       "  </tbody>\n",
       "</table>\n",
       "</div>"
      ],
      "text/plain": [
       "  Comuna     2022  Cantidad de Localidades\n",
       "0      0        0                        0\n",
       "1      1  223.554                        6\n",
       "2      2  161.645                        1\n",
       "3      3  196.240                        2\n",
       "4      4  229.240                        4"
      ]
     },
     "execution_count": 41,
     "metadata": {},
     "output_type": "execute_result"
    }
   ],
   "source": [
    "comunas.head()"
   ]
  },
  {
   "cell_type": "markdown",
   "metadata": {},
   "source": [
    "Tenemo la poblacion total de cada comuna para 2022 pero tambien agregaremos cuantas localidades conforman cada comuna\n",
    "\n",
    "esta informacion esta bajo el cuadro de donde sacamos el dataframe y se ve asi:"
   ]
  },
  {
   "cell_type": "code",
   "execution_count": 37,
   "metadata": {},
   "outputs": [],
   "source": [
    "localidades_por_comuna = {\n",
    "    '1': ['Retiro', 'San Nicolás', 'Puerto Madero', 'San Telmo', 'Montserrat', 'Constitución'],\n",
    "    '2': ['Recoleta'],\n",
    "    '3': ['Balvanera', 'San Cristóbal'],\n",
    "    '4': ['La Boca', 'Barracas', 'Parque Patricios', 'Nueva Pompeya'],\n",
    "    '5': ['Almagro', 'Boedo'],\n",
    "    '6': ['Caballito'],\n",
    "    '7': ['Flores', 'Parque Chacabuco'],\n",
    "    '8': ['Villa Soldati', 'Villa Riachuelo', 'Villa Lugano'],\n",
    "    '9': ['Liniers', 'Mataderos', 'Parque Avellaneda'],\n",
    "    '10': ['Villa Real', 'Monte Castro', 'Versalles', 'Floresta', 'Vélez Sarsfield', 'Villa Luro'],\n",
    "    '11': ['Villa General Mitre', 'Villa Devoto', 'Villa del Parque', 'Villa Santa Rita'],\n",
    "    '12': ['Coghlan', 'Saavedra', 'Villa Urquiza', 'Villa Pueyrredón'],\n",
    "    '13': ['Núñez', 'Belgrano', 'Colegiales'],\n",
    "    '14': ['Palermo'],\n",
    "    '15': ['Chacarita', 'Villa Crespo', 'La Paternal', 'Villa Ortúzar', 'Agronomía', 'Parque Chas']\n",
    "}\n"
   ]
  },
  {
   "cell_type": "markdown",
   "metadata": {},
   "source": [
    "ahora insertaremos este valor en el dataframe"
   ]
  },
  {
   "cell_type": "code",
   "execution_count": 38,
   "metadata": {},
   "outputs": [
    {
     "data": {
      "text/html": [
       "<div>\n",
       "<style scoped>\n",
       "    .dataframe tbody tr th:only-of-type {\n",
       "        vertical-align: middle;\n",
       "    }\n",
       "\n",
       "    .dataframe tbody tr th {\n",
       "        vertical-align: top;\n",
       "    }\n",
       "\n",
       "    .dataframe thead th {\n",
       "        text-align: right;\n",
       "    }\n",
       "</style>\n",
       "<table border=\"1\" class=\"dataframe\">\n",
       "  <thead>\n",
       "    <tr style=\"text-align: right;\">\n",
       "      <th></th>\n",
       "      <th>Comuna</th>\n",
       "      <th>2022</th>\n",
       "      <th>Cantidad de Localidades</th>\n",
       "    </tr>\n",
       "  </thead>\n",
       "  <tbody>\n",
       "    <tr>\n",
       "      <th>1</th>\n",
       "      <td>1</td>\n",
       "      <td>223.554</td>\n",
       "      <td>6</td>\n",
       "    </tr>\n",
       "    <tr>\n",
       "      <th>2</th>\n",
       "      <td>2</td>\n",
       "      <td>161.645</td>\n",
       "      <td>1</td>\n",
       "    </tr>\n",
       "    <tr>\n",
       "      <th>3</th>\n",
       "      <td>3</td>\n",
       "      <td>196.240</td>\n",
       "      <td>2</td>\n",
       "    </tr>\n",
       "    <tr>\n",
       "      <th>4</th>\n",
       "      <td>4</td>\n",
       "      <td>229.240</td>\n",
       "      <td>4</td>\n",
       "    </tr>\n",
       "    <tr>\n",
       "      <th>5</th>\n",
       "      <td>5</td>\n",
       "      <td>194.271</td>\n",
       "      <td>2</td>\n",
       "    </tr>\n",
       "  </tbody>\n",
       "</table>\n",
       "</div>"
      ],
      "text/plain": [
       "  Comuna     2022  Cantidad de Localidades\n",
       "1      1  223.554                        6\n",
       "2      2  161.645                        1\n",
       "3      3  196.240                        2\n",
       "4      4  229.240                        4\n",
       "5      5  194.271                        2"
      ]
     },
     "execution_count": 38,
     "metadata": {},
     "output_type": "execute_result"
    }
   ],
   "source": [
    "def obtener_cantidad_localidades(comuna):\n",
    "    localidades = localidades_por_comuna.get(comuna)\n",
    "    if localidades:\n",
    "        return len(localidades)\n",
    "    else:\n",
    "        return None\n",
    "    \n",
    "\n",
    "comunas['Cantidad de Localidades'] = comunas['Comuna'].apply(obtener_cantidad_localidades)\n",
    "comunas.head()"
   ]
  },
  {
   "cell_type": "markdown",
   "metadata": {},
   "source": [
    "insertaremos una fila para la \"comuna 0\" que es el valor que le pusimos a todas aquellas comunas que tenian valor \"SD\""
   ]
  },
  {
   "cell_type": "code",
   "execution_count": 40,
   "metadata": {},
   "outputs": [],
   "source": [
    "new_row = {'Comuna': 0, '2022': 0, 'Cantidad de Localidades': 0}\n",
    "comunas = pd.concat([pd.DataFrame(new_row, index=[0]), comunas]).reset_index(drop=True)\n"
   ]
  },
  {
   "cell_type": "code",
   "execution_count": 48,
   "metadata": {},
   "outputs": [],
   "source": [
    "merged_df.to_csv(\"homicidios.csv\",index=False)\n",
    "lesiones.to_csv(\"lesiones.csv\", index=False)\n",
    "comunas.to_csv(\"comunas.csv\", index = False)"
   ]
  }
 ],
 "metadata": {
  "kernelspec": {
   "display_name": "Python 3",
   "language": "python",
   "name": "python3"
  },
  "language_info": {
   "codemirror_mode": {
    "name": "ipython",
    "version": 3
   },
   "file_extension": ".py",
   "mimetype": "text/x-python",
   "name": "python",
   "nbconvert_exporter": "python",
   "pygments_lexer": "ipython3",
   "version": "3.11.9"
  }
 },
 "nbformat": 4,
 "nbformat_minor": 2
}
