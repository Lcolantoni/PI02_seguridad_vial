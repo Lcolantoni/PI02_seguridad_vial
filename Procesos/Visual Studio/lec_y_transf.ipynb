{
 "cells": [
  {
   "cell_type": "markdown",
   "metadata": {},
   "source": [
    " ## Carga y Transformación de los archivos\n",
    "\n",
    " Tomaremos los archivos Excel de **homicidios.xlsx** &  **lesiones.xlsx**, haremos las transformaciones y lo dejaremos listo como CSV para su carga en SQL\n",
    " \n",
    "\n",
    " Como unica libreria utilizaremos Pandas, aunque será necesario tener instalado *openpyxl*"
   ]
  },
  {
   "cell_type": "code",
   "execution_count": 2,
   "metadata": {},
   "outputs": [],
   "source": [
    "import pandas as pd"
   ]
  },
  {
   "cell_type": "code",
   "execution_count": 3,
   "metadata": {},
   "outputs": [],
   "source": [
    "rut_hom = r'C:\\Users\\OS\\Desktop\\Proyecto Buenos aires\\Data\\raw\\homicidios.xlsx'\n",
    "rut_les = r'C:\\Users\\OS\\Desktop\\Proyecto Buenos aires\\Data\\raw\\lesiones.xlsx'\n",
    "homicidios = pd.read_excel(rut_hom)\n",
    "lesiones = pd.read_excel(rut_les)"
   ]
  },
  {
   "cell_type": "markdown",
   "metadata": {},
   "source": [
    "# comenzamos por Homicidios\n",
    "\n",
    "Observamos que cuenta con varias columnas que son redundantes, y pocos valores nulos\n",
    "esto de los valores nulos es confuso, hay muchos valores 'SD' (sin datos)"
   ]
  },
  {
   "cell_type": "code",
   "execution_count": 5,
   "metadata": {},
   "outputs": [
    {
     "data": {
      "text/plain": [
       "ID                         0\n",
       "N_VICTIMAS                 0\n",
       "FECHA                      0\n",
       "AAAA                       0\n",
       "MM                         0\n",
       "DD                         0\n",
       "HORA                       0\n",
       "HH                         0\n",
       "LUGAR_DEL_HECHO            0\n",
       "TIPO_DE_CALLE              0\n",
       "Calle                      1\n",
       "Altura                   567\n",
       "Cruce                    171\n",
       "Dirección Normalizada      8\n",
       "COMUNA                     0\n",
       "XY (CABA)                  0\n",
       "pos x                      0\n",
       "pos y                      0\n",
       "PARTICIPANTES              0\n",
       "VICTIMA                    0\n",
       "ACUSADO                    0\n",
       "dtype: int64"
      ]
     },
     "execution_count": 5,
     "metadata": {},
     "output_type": "execute_result"
    }
   ],
   "source": [
    "homicidios.isna().sum()\n"
   ]
  },
  {
   "cell_type": "code",
   "execution_count": 6,
   "metadata": {},
   "outputs": [
    {
     "data": {
      "text/html": [
       "<div>\n",
       "<style scoped>\n",
       "    .dataframe tbody tr th:only-of-type {\n",
       "        vertical-align: middle;\n",
       "    }\n",
       "\n",
       "    .dataframe tbody tr th {\n",
       "        vertical-align: top;\n",
       "    }\n",
       "\n",
       "    .dataframe thead th {\n",
       "        text-align: right;\n",
       "    }\n",
       "</style>\n",
       "<table border=\"1\" class=\"dataframe\">\n",
       "  <thead>\n",
       "    <tr style=\"text-align: right;\">\n",
       "      <th></th>\n",
       "      <th>ID</th>\n",
       "      <th>N_VICTIMAS</th>\n",
       "      <th>FECHA</th>\n",
       "      <th>AAAA</th>\n",
       "      <th>MM</th>\n",
       "      <th>DD</th>\n",
       "      <th>HORA</th>\n",
       "      <th>HH</th>\n",
       "      <th>LUGAR_DEL_HECHO</th>\n",
       "      <th>TIPO_DE_CALLE</th>\n",
       "      <th>...</th>\n",
       "      <th>Altura</th>\n",
       "      <th>Cruce</th>\n",
       "      <th>Dirección Normalizada</th>\n",
       "      <th>COMUNA</th>\n",
       "      <th>XY (CABA)</th>\n",
       "      <th>pos x</th>\n",
       "      <th>pos y</th>\n",
       "      <th>PARTICIPANTES</th>\n",
       "      <th>VICTIMA</th>\n",
       "      <th>ACUSADO</th>\n",
       "    </tr>\n",
       "  </thead>\n",
       "  <tbody>\n",
       "    <tr>\n",
       "      <th>0</th>\n",
       "      <td>2016-0001</td>\n",
       "      <td>1</td>\n",
       "      <td>2016-01-01</td>\n",
       "      <td>2016</td>\n",
       "      <td>1</td>\n",
       "      <td>1</td>\n",
       "      <td>04:00:00</td>\n",
       "      <td>4</td>\n",
       "      <td>AV PIEDRA BUENA Y AV FERNANDEZ DE LA CRUZ</td>\n",
       "      <td>AVENIDA</td>\n",
       "      <td>...</td>\n",
       "      <td>NaN</td>\n",
       "      <td>FERNANDEZ DE LA CRUZ, F., GRAL. AV.</td>\n",
       "      <td>PIEDRA BUENA AV. y FERNANDEZ DE LA CRUZ, F., G...</td>\n",
       "      <td>8</td>\n",
       "      <td>Point (98896.78238426 93532.43437792)</td>\n",
       "      <td>-58.47533969</td>\n",
       "      <td>-34.68757022</td>\n",
       "      <td>MOTO-AUTO</td>\n",
       "      <td>MOTO</td>\n",
       "      <td>AUTO</td>\n",
       "    </tr>\n",
       "    <tr>\n",
       "      <th>1</th>\n",
       "      <td>2016-0002</td>\n",
       "      <td>1</td>\n",
       "      <td>2016-01-02</td>\n",
       "      <td>2016</td>\n",
       "      <td>1</td>\n",
       "      <td>2</td>\n",
       "      <td>01:15:00</td>\n",
       "      <td>1</td>\n",
       "      <td>AV GRAL PAZ  Y AV DE LOS CORRALES</td>\n",
       "      <td>GRAL PAZ</td>\n",
       "      <td>...</td>\n",
       "      <td>NaN</td>\n",
       "      <td>DE LOS CORRALES AV.</td>\n",
       "      <td>PAZ, GRAL. AV. y DE LOS CORRALES AV.</td>\n",
       "      <td>9</td>\n",
       "      <td>Point (95832.05571093 95505.41641999)</td>\n",
       "      <td>-58.50877521</td>\n",
       "      <td>-34.66977709</td>\n",
       "      <td>AUTO-PASAJEROS</td>\n",
       "      <td>AUTO</td>\n",
       "      <td>PASAJEROS</td>\n",
       "    </tr>\n",
       "  </tbody>\n",
       "</table>\n",
       "<p>2 rows × 21 columns</p>\n",
       "</div>"
      ],
      "text/plain": [
       "          ID  N_VICTIMAS      FECHA  AAAA  MM  DD      HORA HH  \\\n",
       "0  2016-0001           1 2016-01-01  2016   1   1  04:00:00  4   \n",
       "1  2016-0002           1 2016-01-02  2016   1   2  01:15:00  1   \n",
       "\n",
       "                             LUGAR_DEL_HECHO TIPO_DE_CALLE  ... Altura  \\\n",
       "0  AV PIEDRA BUENA Y AV FERNANDEZ DE LA CRUZ       AVENIDA  ...    NaN   \n",
       "1          AV GRAL PAZ  Y AV DE LOS CORRALES      GRAL PAZ  ...    NaN   \n",
       "\n",
       "                                 Cruce  \\\n",
       "0  FERNANDEZ DE LA CRUZ, F., GRAL. AV.   \n",
       "1                  DE LOS CORRALES AV.   \n",
       "\n",
       "                               Dirección Normalizada COMUNA  \\\n",
       "0  PIEDRA BUENA AV. y FERNANDEZ DE LA CRUZ, F., G...      8   \n",
       "1               PAZ, GRAL. AV. y DE LOS CORRALES AV.      9   \n",
       "\n",
       "                               XY (CABA)         pos x         pos y  \\\n",
       "0  Point (98896.78238426 93532.43437792)  -58.47533969  -34.68757022   \n",
       "1  Point (95832.05571093 95505.41641999)  -58.50877521  -34.66977709   \n",
       "\n",
       "    PARTICIPANTES VICTIMA    ACUSADO  \n",
       "0       MOTO-AUTO    MOTO       AUTO  \n",
       "1  AUTO-PASAJEROS    AUTO  PASAJEROS  \n",
       "\n",
       "[2 rows x 21 columns]"
      ]
     },
     "execution_count": 6,
     "metadata": {},
     "output_type": "execute_result"
    }
   ],
   "source": [
    "homicidios.head(2)"
   ]
  },
  {
   "cell_type": "markdown",
   "metadata": {},
   "source": [
    "la columna **lugar del hecho** no cuenta con valores nulos, asi que la usaremos para crear una nueva columna **LUGAR_DEL_HECHO_NORMALIZADO** Y luego quitaremos las columnas que no interesan"
   ]
  },
  {
   "cell_type": "code",
   "execution_count": 7,
   "metadata": {},
   "outputs": [],
   "source": [
    "homicidios['LUGAR_DEL_HECHO_NORMALIZADO'] = homicidios['LUGAR_DEL_HECHO'].str.upper() \\\n",
    "    .str.replace(' Y ', ' & ') \\\n",
    "    .str.replace(r'\\bAV(ENIDA)?\\b', '') \\\n",
    "    .str.replace(r'\\s+', ' ') \\\n",
    "    .str.strip()"
   ]
  },
  {
   "cell_type": "code",
   "execution_count": 8,
   "metadata": {},
   "outputs": [],
   "source": [
    "columnas = ['LUGAR_DEL_HECHO', 'Dirección Normalizada','AAAA','MM','Altura','DD','PARTICIPANTES', 'XY (CABA)', 'Cruce']\n",
    "homicidios = homicidios.drop(columns=columnas)"
   ]
  },
  {
   "cell_type": "code",
   "execution_count": 9,
   "metadata": {},
   "outputs": [],
   "source": [
    "columnas = homicidios.columns.tolist()\n",
    "indice_calle = columnas.index('Calle')\n",
    "columnas.insert(indice_calle + 1, 'LUGAR_DEL_HECHO_NORMALIZADO')\n",
    "homicidios = homicidios[columnas]"
   ]
  },
  {
   "cell_type": "markdown",
   "metadata": {},
   "source": [
    "Obsevamos los formatos de cada columna y nos damos cuenta lo siguiente:\n",
    "\n",
    "**ID:**\n",
    "Tiene valores numericos pero con un caracter '-' que lo quitaremos para poder volverlo numerico\n",
    "\n",
    "**HORA:** \n",
    "Tiene falores SD que seran necesario transformar para convertirlo a formato hora en SQL\n",
    "\n",
    "**HH:**\n",
    "Contiene valores tipo SD que  impiden su paso a formato Entero\n",
    "\n",
    "**pos x & pos y:**\n",
    "representan longitud y latitud respectivamente, seran tratados y conveertidos a float para un mejor manejo\n",
    "\n",
    "**VICTIMA,ACUSADO,CALLE:**\n",
    "sus valores 'SD' seran pasados a DESCONOCIDO\n"
   ]
  },
  {
   "cell_type": "code",
   "execution_count": 10,
   "metadata": {},
   "outputs": [
    {
     "data": {
      "text/plain": [
       "ID                                     object\n",
       "N_VICTIMAS                              int64\n",
       "FECHA                          datetime64[ns]\n",
       "HORA                                   object\n",
       "HH                                     object\n",
       "TIPO_DE_CALLE                          object\n",
       "Calle                                  object\n",
       "LUGAR_DEL_HECHO_NORMALIZADO            object\n",
       "COMUNA                                  int64\n",
       "pos x                                  object\n",
       "pos y                                  object\n",
       "VICTIMA                                object\n",
       "ACUSADO                                object\n",
       "dtype: object"
      ]
     },
     "execution_count": 10,
     "metadata": {},
     "output_type": "execute_result"
    }
   ],
   "source": [
    "homicidios = homicidios.loc[:, ~homicidios.columns.duplicated()]\n",
    "homicidios.dtypes"
   ]
  },
  {
   "cell_type": "code",
   "execution_count": 11,
   "metadata": {},
   "outputs": [],
   "source": [
    "homicidios['ID'] = homicidios['ID'].str.replace('-', '')\n",
    "homicidios['ID'] = pd.to_numeric(homicidios['ID'])\n",
    "homicidios['HH'] = pd.to_numeric(homicidios['HH'], errors='coerce')\n",
    "homicidios.rename(columns={'pos x': 'longitud',\n",
    "                           'pos y': 'Latitud'}, inplace= True)"
   ]
  },
  {
   "cell_type": "code",
   "execution_count": 12,
   "metadata": {},
   "outputs": [
    {
     "data": {
      "text/plain": [
       "ID                             0\n",
       "N_VICTIMAS                     0\n",
       "FECHA                          0\n",
       "HORA                           0\n",
       "HH                             1\n",
       "TIPO_DE_CALLE                  0\n",
       "Calle                          1\n",
       "LUGAR_DEL_HECHO_NORMALIZADO    0\n",
       "COMUNA                         0\n",
       "longitud                       0\n",
       "Latitud                        0\n",
       "VICTIMA                        0\n",
       "ACUSADO                        0\n",
       "dtype: int64"
      ]
     },
     "execution_count": 12,
     "metadata": {},
     "output_type": "execute_result"
    }
   ],
   "source": [
    "homicidios.isnull().sum()"
   ]
  },
  {
   "cell_type": "code",
   "execution_count": 13,
   "metadata": {},
   "outputs": [
    {
     "name": "stdout",
     "output_type": "stream",
     "text": [
      "           ID  N_VICTIMAS      FECHA      HORA    HH TIPO_DE_CALLE Calle  \\\n",
      "119  20160151           1 2016-11-18  20:35:00  20.0         CALLE   NaN   \n",
      "\n",
      "    LUGAR_DEL_HECHO_NORMALIZADO  COMUNA longitud Latitud VICTIMA ACUSADO  \n",
      "119                          SD       0        .       .  PEATON      SD  \n",
      "           ID  N_VICTIMAS      FECHA HORA  HH TIPO_DE_CALLE           Calle  \\\n",
      "518  20190103           1 2019-12-18   SD NaN      GRAL PAZ  PAZ, GRAL. AV.   \n",
      "\n",
      "    LUGAR_DEL_HECHO_NORMALIZADO  COMUNA      longitud       Latitud VICTIMA  \\\n",
      "518     PAZ, GRAL. AV. & GRIVEO      11  -58.52169422  -34.59471640    MOTO   \n",
      "\n",
      "    ACUSADO  \n",
      "518    MOTO  \n"
     ]
    }
   ],
   "source": [
    "null_HH = homicidios.loc[homicidios['HH'].isnull()]\n",
    "null_calle = homicidios.loc[homicidios['Calle'].isnull()]\n",
    "print(null_calle)\n",
    "print(null_HH)"
   ]
  },
  {
   "cell_type": "code",
   "execution_count": 14,
   "metadata": {},
   "outputs": [
    {
     "name": "stderr",
     "output_type": "stream",
     "text": [
      "C:\\Users\\OS\\AppData\\Local\\Temp\\ipykernel_15752\\1592614858.py:1: FutureWarning: Setting an item of incompatible dtype is deprecated and will raise an error in a future version of pandas. Value '00' has dtype incompatible with float64, please explicitly cast to a compatible dtype first.\n",
      "  homicidios.loc[homicidios['HH'].isnull(), 'HH'] = '00'\n"
     ]
    }
   ],
   "source": [
    "homicidios.loc[homicidios['HH'].isnull(), 'HH'] = '00'\n",
    "homicidios['HH'] = pd.to_numeric(homicidios['HH'])\n",
    "homicidios.loc[homicidios['Calle'].isnull(), 'Calle'] = 'DESCONOCIDO'\n"
   ]
  },
  {
   "cell_type": "code",
   "execution_count": 15,
   "metadata": {},
   "outputs": [],
   "source": [
    "homicidios.loc[homicidios['HORA'] == 'SD', 'HORA'] = '00:00:00'\n",
    "homicidios.loc[homicidios['VICTIMA'] == 'SD', 'VICTIMA'] = 'DESCONOCIDO'\n",
    "homicidios.loc[homicidios['ACUSADO'] == 'SD', 'ACUSADO'] = 'DESCONOCIDO'"
   ]
  },
  {
   "cell_type": "code",
   "execution_count": 16,
   "metadata": {},
   "outputs": [],
   "source": [
    "homicidios['Latitud'] = homicidios['Latitud'].str.replace(',', '.')\n",
    "homicidios['longitud'] = homicidios['longitud'].str.replace(',', '.')\n",
    "homicidios = homicidios[homicidios['Latitud'] != '.']\n",
    "homicidios = homicidios[homicidios['longitud'] != '.']\n",
    "homicidios['Latitud'] = homicidios['Latitud'].astype(float)\n",
    "homicidios['longitud'] = homicidios['longitud'].astype(float)"
   ]
  },
  {
   "cell_type": "code",
   "execution_count": 17,
   "metadata": {},
   "outputs": [],
   "source": [
    "homicidios['HH'] = homicidios['HH'].astype(int)"
   ]
  },
  {
   "cell_type": "markdown",
   "metadata": {},
   "source": [
    "## Lesiones\n",
    "\n",
    "este archivo requiere un trabajo mas extenso\n",
    "\n",
    "tiene una cantidad de nulos y valores 'SD', y columnas que hay que tratar, eliminar o modificar para crear un archivo listo para analizar y cargar a SQL"
   ]
  },
  {
   "cell_type": "code",
   "execution_count": 19,
   "metadata": {},
   "outputs": [],
   "source": [
    "lesiones['direc_normalizada'] = lesiones['otra_direccion'].apply(lambda x: x.lower() if pd.notnull(x) else x)\n"
   ]
  },
  {
   "cell_type": "markdown",
   "metadata": {},
   "source": [
    "Las columnas:\n",
    "\n",
    "**'aaaa','mm','dd'**\n",
    "\n",
    "**'calle','altura','geocodificacion_CABA'**\n",
    "\n",
    "**'participantes','moto','auto','transporte_publico'**\n",
    "\n",
    "**'camion','ciclista','direccion_normalizada', 'cruce','otra_direccion'**\n",
    "\n",
    "seran quitadas puesto no aportan nada relevante"
   ]
  },
  {
   "cell_type": "code",
   "execution_count": 20,
   "metadata": {},
   "outputs": [],
   "source": [
    "columnas = ['aaaa','mm','dd','calle','altura','geocodificacion_CABA','participantes','moto','auto','transporte_publico','camion','ciclista','direccion_normalizada', 'cruce','otra_direccion']\n",
    "lesiones = lesiones.drop(columns=columnas)"
   ]
  },
  {
   "cell_type": "markdown",
   "metadata": {},
   "source": [
    "Se quitan los caracteres no numericos de **id**\n",
    "\n",
    "se pasa a formato datetime a la columna **fecha**\n",
    "\n",
    "se inserta la columna **direc_normalizada** antes de *longitud* y se le cambian los valores 'SD' a 'sin datos'\n",
    "\n",
    "se toman los valores nulos, SD y 'No especificada' (hay uno solo de este ultimo) a 0, valor numerico que queda como indicador de desconocido"
   ]
  },
  {
   "cell_type": "code",
   "execution_count": 21,
   "metadata": {},
   "outputs": [],
   "source": [
    "lesiones['id'] = lesiones['id'].str.replace(r'\\D', '', regex=True)\n",
    "lesiones['fecha'] = pd.to_datetime(lesiones['fecha']).dt.strftime('%Y-%m-%d')\n",
    "columnas = lesiones.columns.tolist()\n",
    "indice_longitud = columnas.index('longitud')\n",
    "columnas.insert(indice_longitud, 'direc_normalizada')\n",
    "lesiones = lesiones[columnas]\n",
    "lesiones['direc_normalizada'] = lesiones['direc_normalizada'].replace('sd', 'sin datos', regex=True)\n",
    "lesiones = lesiones.loc[:,~lesiones.columns.duplicated()]"
   ]
  },
  {
   "cell_type": "code",
   "execution_count": 22,
   "metadata": {},
   "outputs": [
    {
     "name": "stderr",
     "output_type": "stream",
     "text": [
      "C:\\Users\\OS\\AppData\\Local\\Temp\\ipykernel_15752\\3351253537.py:2: FutureWarning: Downcasting behavior in `replace` is deprecated and will be removed in a future version. To retain the old behavior, explicitly call `result.infer_objects(copy=False)`. To opt-in to the future behavior, set `pd.set_option('future.no_silent_downcasting', True)`\n",
      "  lesiones['comuna'] = lesiones['comuna'].replace('No Especificada', 0)\n"
     ]
    }
   ],
   "source": [
    "lesiones['comuna'] = lesiones['comuna'].replace('SD', 0)\n",
    "lesiones['comuna'] = lesiones['comuna'].replace('No Especificada', 0)\n",
    "lesiones['comuna'] = lesiones['comuna'].fillna(0)\n",
    "lesiones['comuna'] = pd.to_numeric(lesiones['comuna'])"
   ]
  },
  {
   "cell_type": "markdown",
   "metadata": {},
   "source": [
    "Le daremos formato de hora a la columna *hora*\n",
    "\n",
    "la columna **tipo_Calle** no cuenta con valores nulos pero si muchos tipo 'SD' los cuales transformaremos en:\n",
    "\n",
    "- AUTOPISTA\n",
    "- AVENIDA\n",
    "- CALLE\n",
    "- GRAL PAZ\n",
    "\n",
    "esto lo haremos en base a los valores de 'direc_normalizada'"
   ]
  },
  {
   "cell_type": "code",
   "execution_count": 24,
   "metadata": {},
   "outputs": [],
   "source": [
    "def convertir_formato_hora(hora):\n",
    "    hora_datetime = pd.to_datetime(hora, format='%H:%M:%S', errors='coerce')\n",
    "    hora_24h = hora_datetime.strftime('%H:%M:%S') if not pd.isnull(hora_datetime) else None\n",
    "    return hora_24h\n",
    "lesiones['hora'] = lesiones['hora'].apply(convertir_formato_hora)"
   ]
  },
  {
   "cell_type": "code",
   "execution_count": 25,
   "metadata": {},
   "outputs": [],
   "source": [
    "lesiones.loc[lesiones['direc_normalizada'].str.contains('autopista', case=False), 'tipo_calle'] = 'AUTOPISTA'\n",
    "lesiones.loc[lesiones['direc_normalizada'].str.contains('av.', case=False), 'tipo_calle'] = 'AVENIDA'\n",
    "lesiones.loc[lesiones['direc_normalizada'].str.contains('calle', case=False), 'tipo_calle'] = 'CALLE'\n",
    "lesiones.loc[lesiones['direc_normalizada'] == 'paz, gral. av.', 'tipo_calle'] = 'GRAL PAZ'\n",
    "lesiones.loc[lesiones['tipo_calle'] == 'SD', 'tipo_calle'] = 'CALLE'\n"
   ]
  },
  {
   "cell_type": "markdown",
   "metadata": {},
   "source": [
    "para las columnas de **latitud** y **longitud** llenaremos los valores nulos con 0 y luego reemplazaramos los outliers y los valores iguales a 0 con la media de cada columna\n"
   ]
  },
  {
   "cell_type": "code",
   "execution_count": null,
   "metadata": {},
   "outputs": [],
   "source": [
    "lesiones['latutid'] =lesiones['latutid'].fillna(00.00000)\n",
    "lesiones['longitud'] =lesiones['longitud'].fillna(00.00000)\n",
    "lesiones['latutid'] =lesiones['latutid'].replace('SD',00.00000)\n",
    "lesiones['longitud'] =lesiones['longitud'].replace('SD',00.00000)"
   ]
  },
  {
   "cell_type": "code",
   "execution_count": 26,
   "metadata": {},
   "outputs": [],
   "source": [
    "lesiones.rename(columns={'latutid': 'latitud'}, inplace=True)\n",
    "lesiones['latitud'] = lesiones['latitud'].astype(float)\n",
    "lesiones['longitud'] = lesiones['longitud'].astype(float)\n",
    "lesiones['latitud'] = lesiones['latitud'].round(8)\n",
    "lesiones['longitud'] = lesiones['longitud'].round(8)\n",
    "lesiones.loc[lesiones['latitud'] == 0, 'latitud'] = lesiones['latitud'].replace(0, lesiones.loc[lesiones['latitud'] != 0, 'latitud'].mean()).round(8)\n",
    "lesiones.loc[lesiones['longitud'] == 0, 'longitud'] = lesiones['longitud'].replace(0, lesiones.loc[lesiones['longitud'] != 0, 'longitud'].mean()).round(8)\n",
    "pd.options.display.float_format = '{:.8f}'.format\n",
    "lesiones.loc[23784, 'longitud'] = -58.29963273\n",
    "lesiones.loc[23784, 'latitud'] = -34.72890716"
   ]
  },
  {
   "cell_type": "code",
   "execution_count": 27,
   "metadata": {},
   "outputs": [],
   "source": [
    "lesiones['comuna'] = lesiones['comuna'].astype(int)\n",
    "lesiones['n_victimas'] = lesiones['n_victimas'].astype(int)\n",
    "lesiones.loc[lesiones['gravedad'] == 'SD', 'gravedad'] = 'Sin Gravedad'\n",
    "lesiones.loc[lesiones['acusado'] == 'SD', 'acusado'] = 'desconocido'\n",
    "lesiones.loc[lesiones['victima'] == 'SD', 'victima'] = 'desconocido'"
   ]
  },
  {
   "cell_type": "code",
   "execution_count": 28,
   "metadata": {},
   "outputs": [],
   "source": [
    "# errores al cargar long y lat\n",
    "long_med_f = lesiones.loc[(lesiones['longitud'] > -180.0) & (lesiones['longitud'] < 180.0), 'longitud']\n",
    "lat_med_f = lesiones.loc[(lesiones['latitud'] > -180.0) & (lesiones['latitud'] < 180.0), 'latitud']\n",
    "long_med = round(long_med_f.mean(),8)\n",
    "lat_med = round(lat_med_f.mean(),8)\n",
    "lesiones.loc[lesiones['longitud'] < -180.0, 'longitud'] = long_med\n",
    "lesiones.loc[lesiones['longitud'] > 180.0, 'longitud'] = long_med\n",
    "lesiones.loc[lesiones['latitud'] < -180.0, 'latitud'] = lat_med\n",
    "lesiones.loc[lesiones['latitud'] > 180.0, 'latitud'] = lat_med"
   ]
  },
  {
   "cell_type": "code",
   "execution_count": 29,
   "metadata": {},
   "outputs": [
    {
     "name": "stderr",
     "output_type": "stream",
     "text": [
      "C:\\Users\\OS\\AppData\\Local\\Temp\\ipykernel_15752\\3302146950.py:4: FutureWarning: A value is trying to be set on a copy of a DataFrame or Series through chained assignment using an inplace method.\n",
      "The behavior will change in pandas 3.0. This inplace method will never work because the intermediate object on which we are setting values always behaves as a copy.\n",
      "\n",
      "For example, when doing 'df[col].method(value, inplace=True)', try using 'df.method({col: value}, inplace=True)' or df[col] = df[col].method(value) instead, to perform the operation inplace on the original object.\n",
      "\n",
      "\n",
      "  lesiones['franja_hora'].fillna(med, inplace= True)\n",
      "C:\\Users\\OS\\AppData\\Local\\Temp\\ipykernel_15752\\3302146950.py:4: FutureWarning: Downcasting object dtype arrays on .fillna, .ffill, .bfill is deprecated and will change in a future version. Call result.infer_objects(copy=False) instead. To opt-in to the future behavior, set `pd.set_option('future.no_silent_downcasting', True)`\n",
      "  lesiones['franja_hora'].fillna(med, inplace= True)\n"
     ]
    }
   ],
   "source": [
    "# manejo de nulos en hora y despues se llenara franja_hora\n",
    "lesiones['franja_hora'] = lesiones['franja_hora'].replace(['sd','SD'], pd.NA)\n",
    "med = round(lesiones['franja_hora'].mean(skipna= True))\n",
    "lesiones['franja_hora'].fillna(med, inplace= True)\n",
    "lesiones['hora'] = lesiones['hora'].fillna(lesiones['franja_hora'].astype(str).str[:2] + ':00:00')"
   ]
  },
  {
   "cell_type": "code",
   "execution_count": 31,
   "metadata": {},
   "outputs": [],
   "source": [
    "homicidios.to_csv(\"homicidios.csv\",index=False)\n",
    "lesiones.to_csv(\"lesiones.csv\", index=False)"
   ]
  }
 ],
 "metadata": {
  "kernelspec": {
   "display_name": "Python 3",
   "language": "python",
   "name": "python3"
  },
  "language_info": {
   "codemirror_mode": {
    "name": "ipython",
    "version": 3
   },
   "file_extension": ".py",
   "mimetype": "text/x-python",
   "name": "python",
   "nbconvert_exporter": "python",
   "pygments_lexer": "ipython3",
   "version": "3.11.9"
  }
 },
 "nbformat": 4,
 "nbformat_minor": 2
}
